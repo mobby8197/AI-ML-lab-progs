{
 "cells": [
  {
   "cell_type": "code",
   "execution_count": 3,
   "id": "7cc130b8",
   "metadata": {},
   "outputs": [
    {
     "name": "stdout",
     "output_type": "stream",
     "text": [
      "Iris dataset loaded\n",
      "Dataset is split into training and testing: \n",
      "Size of training data and its label:  (135, 4) (135,)\n",
      "Size of testining data and its label:  (15, 4) (15,)\n",
      "Label:  0 - setosa\n",
      "Label:  1 - versicolor\n",
      "Label:  2 - virginica\n",
      "Results of classification using KNN with K = 2: \n",
      "Sample:  [5.7 3.8 1.7 0.3] \t Actual_Label:  0 \t Predicted_Label:  0\n",
      "Sample:  [6.7 3.1 4.7 1.5] \t Actual_Label:  1 \t Predicted_Label:  1\n",
      "Sample:  [5.  3.4 1.6 0.4] \t Actual_Label:  0 \t Predicted_Label:  0\n",
      "Sample:  [5.4 3.4 1.7 0.2] \t Actual_Label:  0 \t Predicted_Label:  0\n",
      "Sample:  [6.7 2.5 5.8 1.8] \t Actual_Label:  2 \t Predicted_Label:  2\n",
      "Sample:  [7.1 3.  5.9 2.1] \t Actual_Label:  2 \t Predicted_Label:  2\n",
      "Sample:  [6.4 3.2 5.3 2.3] \t Actual_Label:  2 \t Predicted_Label:  2\n",
      "Sample:  [4.9 3.1 1.5 0.1] \t Actual_Label:  0 \t Predicted_Label:  0\n",
      "Sample:  [4.7 3.2 1.6 0.2] \t Actual_Label:  0 \t Predicted_Label:  0\n",
      "Sample:  [5.1 2.5 3.  1.1] \t Actual_Label:  1 \t Predicted_Label:  1\n",
      "Sample:  [6.1 2.9 4.7 1.4] \t Actual_Label:  1 \t Predicted_Label:  1\n",
      "Sample:  [5.2 3.5 1.5 0.2] \t Actual_Label:  0 \t Predicted_Label:  0\n",
      "Sample:  [6.9 3.1 5.1 2.3] \t Actual_Label:  2 \t Predicted_Label:  2\n",
      "Sample:  [7.  3.2 4.7 1.4] \t Actual_Label:  1 \t Predicted_Label:  1\n",
      "Sample:  [5.8 2.6 4.  1.2] \t Actual_Label:  1 \t Predicted_Label:  1\n",
      "Classification accuracy:  1.0\n"
     ]
    }
   ],
   "source": [
    "from sklearn.model_selection import train_test_split\n",
    "from sklearn.neighbors import KNeighborsClassifier\n",
    "from sklearn import datasets\n",
    "\n",
    "iris = datasets.load_iris()\n",
    "print(\"Iris dataset loaded\")\n",
    "\n",
    "x_train, x_test, y_train, y_test = train_test_split(iris.data, iris.target, test_size = 0.1)\n",
    "\n",
    "print(\"Dataset is split into training and testing: \")\n",
    "\n",
    "print(\"Size of training data and its label: \" , x_train.shape, y_train.shape)\n",
    "\n",
    "print(\"Size of testining data and its label: \", x_test.shape, y_test.shape)\n",
    "\n",
    "for i in range(len(iris.target_names)):\n",
    "    print(\"Label: \", i, \"-\", str(iris.target_names[i]))\n",
    "\n",
    "classifier = KNeighborsClassifier(n_neighbors = 2)\n",
    "classifier.fit(x_train, y_train)\n",
    "\n",
    "y_pred = classifier.predict(x_test)\n",
    "\n",
    "print(\"Results of classification using KNN with K = 2: \")\n",
    "for r in range(0, len(x_test)):\n",
    "    print(\"Sample: \", str(x_test[r]), \"\\t Actual_Label: \", str(y_test[r]), \"\\t Predicted_Label: \", str(y_pred[r]))\n",
    "print(\"Classification accuracy: \", classifier.score(x_test, y_test))"
   ]
  },
  {
   "cell_type": "code",
   "execution_count": null,
   "id": "2a2d32b0",
   "metadata": {},
   "outputs": [],
   "source": []
  }
 ],
 "metadata": {
  "kernelspec": {
   "display_name": "Python 3 (ipykernel)",
   "language": "python",
   "name": "python3"
  },
  "language_info": {
   "codemirror_mode": {
    "name": "ipython",
    "version": 3
   },
   "file_extension": ".py",
   "mimetype": "text/x-python",
   "name": "python",
   "nbconvert_exporter": "python",
   "pygments_lexer": "ipython3",
   "version": "3.9.12"
  }
 },
 "nbformat": 4,
 "nbformat_minor": 5
}
