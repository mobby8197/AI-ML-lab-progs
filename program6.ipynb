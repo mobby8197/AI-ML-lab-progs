{
 "cells": [
  {
   "cell_type": "code",
   "execution_count": 1,
   "id": "fc2ce8ce",
   "metadata": {},
   "outputs": [
    {
     "name": "stdout",
     "output_type": "stream",
     "text": [
      "Iris dataset loaded\n",
      "Data set is split into training and testing...\n",
      "Size of training data and its lable (142, 4) (142,)\n",
      "Size of testing data and its lable (8, 4) (8,)\n",
      "Lable  0 - setosa\n",
      "Lable  1 - versicolor\n",
      "Lable  2 - virginica\n",
      "Confusion matrix:\n",
      " [[3 0 0]\n",
      " [0 2 0]\n",
      " [0 0 3]]\n",
      "Results of classification using naive bayes\n",
      "Sample: [5.8 2.8 5.1 2.4] Actual_lable: 2 Predicted_lable: 2\n",
      "Sample: [6.  2.2 4.  1. ] Actual_lable: 1 Predicted_lable: 1\n",
      "Sample: [5.5 4.2 1.4 0.2] Actual_lable: 0 Predicted_lable: 0\n",
      "Sample: [7.3 2.9 6.3 1.8] Actual_lable: 2 Predicted_lable: 2\n",
      "Sample: [5.  3.4 1.5 0.2] Actual_lable: 0 Predicted_lable: 0\n",
      "Sample: [6.3 3.3 6.  2.5] Actual_lable: 2 Predicted_lable: 2\n",
      "Sample: [5.  3.5 1.3 0.3] Actual_lable: 0 Predicted_lable: 0\n",
      "Sample: [6.7 3.1 4.7 1.5] Actual_lable: 1 Predicted_lable: 1\n",
      "classification accuracy: 1.0\n",
      "other reports:\n",
      "               precision    recall  f1-score   support\n",
      "\n",
      "           0       1.00      1.00      1.00         3\n",
      "           1       1.00      1.00      1.00         2\n",
      "           2       1.00      1.00      1.00         3\n",
      "\n",
      "    accuracy                           1.00         8\n",
      "   macro avg       1.00      1.00      1.00         8\n",
      "weighted avg       1.00      1.00      1.00         8\n",
      "\n"
     ]
    }
   ],
   "source": [
    "from sklearn import datasets\n",
    "from sklearn.model_selection import train_test_split\n",
    "from sklearn.naive_bayes import GaussianNB\n",
    "from sklearn import metrics\n",
    "\n",
    "iris=datasets.load_iris()\n",
    "print(\"Iris dataset loaded\")\n",
    "\n",
    "X,y=datasets.load_iris(return_X_y=True)\n",
    "X_train,X_test,y_train,y_test=train_test_split(X,y,test_size=0.05,random_state=0)\n",
    "\n",
    "print(\"Data set is split into training and testing...\")\n",
    "print(\"Size of training data and its lable\",X_train.shape,y_train.shape)\n",
    "print(\"Size of testing data and its lable\",X_test.shape,y_test.shape)\n",
    "\n",
    "for i in range(len(iris.target_names)):\n",
    "    print(\"Lable \",i,\"-\",str(iris.target_names[i]))\n",
    "\n",
    "gnb=GaussianNB()\n",
    "y_pred=gnb.fit(X_train,y_train).predict(X_test)\n",
    "print(\"Confusion matrix:\\n\",metrics.confusion_matrix(y_test,y_pred))\n",
    "print(\"Results of classification using naive bayes\")\n",
    "for r in range (0,len(X_test)):\n",
    "    print(\"Sample:\",str(X_test[r]),\"Actual_lable:\",str(y_test[r]),\"Predicted_lable:\",str(y_pred[r]))\n",
    "print(\"classification accuracy:\",gnb.score(X_test,y_test))\n",
    "print(\"other reports:\\n\",metrics.classification_report(y_test,y_pred))"
   ]
  },
  {
   "cell_type": "code",
   "execution_count": null,
   "id": "d90509a5",
   "metadata": {},
   "outputs": [],
   "source": []
  }
 ],
 "metadata": {
  "kernelspec": {
   "display_name": "Python 3 (ipykernel)",
   "language": "python",
   "name": "python3"
  },
  "language_info": {
   "codemirror_mode": {
    "name": "ipython",
    "version": 3
   },
   "file_extension": ".py",
   "mimetype": "text/x-python",
   "name": "python",
   "nbconvert_exporter": "python",
   "pygments_lexer": "ipython3",
   "version": "3.9.12"
  }
 },
 "nbformat": 4,
 "nbformat_minor": 5
}
