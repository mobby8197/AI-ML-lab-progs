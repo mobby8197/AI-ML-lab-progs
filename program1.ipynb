{
 "cells": [
  {
   "cell_type": "code",
   "execution_count": 1,
   "id": "4cb5a300",
   "metadata": {},
   "outputs": [
    {
     "name": "stdout",
     "output_type": "stream",
     "text": [
      "Path found: ['S', 'B', 'C', 'D', 'G']\n"
     ]
    },
    {
     "data": {
      "text/plain": [
       "['S', 'B', 'C', 'D', 'G']"
      ]
     },
     "execution_count": 1,
     "metadata": {},
     "output_type": "execute_result"
    }
   ],
   "source": [
    "class Graph:\n",
    "    def __init__(self, adjac_list):\n",
    "        self.adjac_list = adjac_list\n",
    "        \n",
    "    def get_neighbours(self, v):\n",
    "        return self.adjac_list[v]\n",
    "    \n",
    "    def h(self, n):\n",
    "        H = {\n",
    "            'S': 14,\n",
    "            'A': 12,\n",
    "            'B': 11,\n",
    "            'C': 6,\n",
    "            'D': 4,\n",
    "            'E': 11,\n",
    "            'G': 0\n",
    "        }\n",
    "        return H[n]\n",
    "\n",
    "    def a_star_algorithm(self, start, stop):\n",
    "        open_lst = set([start])\n",
    "        closed_lst = set([])\n",
    "        \n",
    "        g = {}\n",
    "        g[start] = 0\n",
    "        \n",
    "        parent = {}\n",
    "        parent[start] = start\n",
    "        \n",
    "        while len(open_lst)>0:\n",
    "            n = None\n",
    "            for v in open_lst:\n",
    "                if n==None or g[v]+self.h(v)<g[n]+self.h(n):\n",
    "                    n = v\n",
    "            if n==None:\n",
    "                print('Path does not exist!')\n",
    "                return None\n",
    "            if n==stop:\n",
    "                path = []\n",
    "                while parent[n] != n:\n",
    "                    path.append(n)\n",
    "                    n=parent[n]\n",
    "                path.append(start)\n",
    "                path.reverse()\n",
    "                print('Path found: {}'.format(path))\n",
    "                return path\n",
    "            for (m, weight) in self.get_neighbours(n):\n",
    "                if m not in open_lst and m not in closed_lst:\n",
    "                    open_lst.add(m)\n",
    "                    parent[m] = n\n",
    "                    g[m] = g[n] + weight                            \n",
    "                else:\n",
    "                    if g[m]>g[n] + weight:\n",
    "                        g[m] = g[n] + weight\n",
    "                        parent[m] = n\n",
    "                        if m in closed_lst:\n",
    "                            closed_lst.remove(m)\n",
    "                            open_lst.add(m)\n",
    "            open_lst.remove(n)\n",
    "            closed_lst.add(n)\n",
    "        print('Path does not exist!')\n",
    "        return None\n",
    "    \n",
    "adjac_lis = {\n",
    "    'S': [('A', 4), ('B', 3)],\n",
    "    'B': [('C', 7), ('D', 10)],\n",
    "    'A': [('E', 5), ('D', 12)],\n",
    "    'C': [('D', 2)],\n",
    "    'D': [('G', 5)],\n",
    "    'E': [('G', 16)],\n",
    "    'G': None\n",
    "}\n",
    "graph1 = Graph(adjac_lis)\n",
    "graph1.a_star_algorithm('S', 'G')"
   ]
  },
  {
   "cell_type": "code",
   "execution_count": null,
   "id": "42455ddd",
   "metadata": {},
   "outputs": [],
   "source": []
  }
 ],
 "metadata": {
  "kernelspec": {
   "display_name": "Python 3 (ipykernel)",
   "language": "python",
   "name": "python3"
  },
  "language_info": {
   "codemirror_mode": {
    "name": "ipython",
    "version": 3
   },
   "file_extension": ".py",
   "mimetype": "text/x-python",
   "name": "python",
   "nbconvert_exporter": "python",
   "pygments_lexer": "ipython3",
   "version": "3.9.13"
  }
 },
 "nbformat": 4,
 "nbformat_minor": 5
}
